{
 "cells": [
  {
   "cell_type": "markdown",
   "metadata": {
    "colab_type": "text",
    "id": "view-in-github"
   },
   "source": [
    "<a href=\"https://colab.research.google.com/github/kruedae/DRL_in_QuantumTransport/blob/master/Agent_training.ipynb\" target=\"_parent\"><img src=\"https://colab.research.google.com/assets/colab-badge.svg\" alt=\"Open In Colab\"/></a>"
   ]
  },
  {
   "cell_type": "markdown",
   "metadata": {
    "id": "hyyN-2qyK_T2"
   },
   "source": [
    "# Usando Baselines3\n",
    "\n",
    "Github repo: https://github.com/araffin/rl-tutorial-jnrr19/tree/sb3/\n",
    "\n",
    "Stable-Baselines3 es una libreria que implementa algoritmos de RL y crea interfaces de uso que simplifican la prueba de algoritmos. Es como contar con cajas negras prefabricadas que contienen algoritmos. La información de las redes y demás, sin embargo, es visible"
   ]
  },
  {
   "cell_type": "code",
   "execution_count": null,
   "metadata": {
    "colab": {
     "base_uri": "https://localhost:8080/"
    },
    "id": "gWskDE2c9WoN",
    "outputId": "947794b9-07d4-4712-b595-d6b1efd33402"
   },
   "outputs": [
    {
     "name": "stdout",
     "output_type": "stream",
     "text": [
      "Looking in indexes: https://pypi.org/simple, https://us-python.pkg.dev/colab-wheels/public/simple/\n",
      "Collecting stable-baselines3[extra]\n",
      "  Downloading stable_baselines3-1.5.0-py3-none-any.whl (177 kB)\n",
      "\u001b[K     |████████████████████████████████| 177 kB 5.5 MB/s \n",
      "\u001b[?25hRequirement already satisfied: cloudpickle in /usr/local/lib/python3.7/dist-packages (from stable-baselines3[extra]) (1.3.0)\n",
      "Collecting gym==0.21\n",
      "  Downloading gym-0.21.0.tar.gz (1.5 MB)\n",
      "\u001b[K     |████████████████████████████████| 1.5 MB 22.8 MB/s \n",
      "\u001b[?25hRequirement already satisfied: matplotlib in /usr/local/lib/python3.7/dist-packages (from stable-baselines3[extra]) (3.2.2)\n",
      "Requirement already satisfied: numpy in /usr/local/lib/python3.7/dist-packages (from stable-baselines3[extra]) (1.21.6)\n",
      "Requirement already satisfied: torch>=1.8.1 in /usr/local/lib/python3.7/dist-packages (from stable-baselines3[extra]) (1.11.0+cu113)\n",
      "Requirement already satisfied: pandas in /usr/local/lib/python3.7/dist-packages (from stable-baselines3[extra]) (1.3.5)\n",
      "Requirement already satisfied: opencv-python in /usr/local/lib/python3.7/dist-packages (from stable-baselines3[extra]) (4.1.2.30)\n",
      "Collecting autorom[accept-rom-license]~=0.4.2\n",
      "  Downloading AutoROM-0.4.2-py3-none-any.whl (16 kB)\n",
      "Requirement already satisfied: tensorboard>=2.2.0 in /usr/local/lib/python3.7/dist-packages (from stable-baselines3[extra]) (2.8.0)\n",
      "Collecting ale-py~=0.7.4\n",
      "  Downloading ale_py-0.7.5-cp37-cp37m-manylinux_2_17_x86_64.manylinux2014_x86_64.whl (1.6 MB)\n",
      "\u001b[K     |████████████████████████████████| 1.6 MB 42.9 MB/s \n",
      "\u001b[?25hRequirement already satisfied: pillow in /usr/local/lib/python3.7/dist-packages (from stable-baselines3[extra]) (7.1.2)\n",
      "Requirement already satisfied: psutil in /usr/local/lib/python3.7/dist-packages (from stable-baselines3[extra]) (5.4.8)\n",
      "Requirement already satisfied: importlib_metadata>=4.8.1 in /usr/local/lib/python3.7/dist-packages (from gym==0.21->stable-baselines3[extra]) (4.11.4)\n",
      "Requirement already satisfied: importlib-resources in /usr/local/lib/python3.7/dist-packages (from ale-py~=0.7.4->stable-baselines3[extra]) (5.7.1)\n",
      "Requirement already satisfied: requests in /usr/local/lib/python3.7/dist-packages (from autorom[accept-rom-license]~=0.4.2->stable-baselines3[extra]) (2.23.0)\n",
      "Requirement already satisfied: tqdm in /usr/local/lib/python3.7/dist-packages (from autorom[accept-rom-license]~=0.4.2->stable-baselines3[extra]) (4.64.0)\n",
      "Requirement already satisfied: click in /usr/local/lib/python3.7/dist-packages (from autorom[accept-rom-license]~=0.4.2->stable-baselines3[extra]) (7.1.2)\n",
      "Collecting AutoROM.accept-rom-license\n",
      "  Downloading AutoROM.accept-rom-license-0.4.2.tar.gz (9.8 kB)\n",
      "  Installing build dependencies ... \u001b[?25l\u001b[?25hdone\n",
      "  Getting requirements to build wheel ... \u001b[?25l\u001b[?25hdone\n",
      "    Preparing wheel metadata ... \u001b[?25l\u001b[?25hdone\n",
      "Requirement already satisfied: typing-extensions>=3.6.4 in /usr/local/lib/python3.7/dist-packages (from importlib_metadata>=4.8.1->gym==0.21->stable-baselines3[extra]) (4.1.1)\n",
      "Requirement already satisfied: zipp>=0.5 in /usr/local/lib/python3.7/dist-packages (from importlib_metadata>=4.8.1->gym==0.21->stable-baselines3[extra]) (3.8.0)\n",
      "Requirement already satisfied: tensorboard-data-server<0.7.0,>=0.6.0 in /usr/local/lib/python3.7/dist-packages (from tensorboard>=2.2.0->stable-baselines3[extra]) (0.6.1)\n",
      "Requirement already satisfied: google-auth-oauthlib<0.5,>=0.4.1 in /usr/local/lib/python3.7/dist-packages (from tensorboard>=2.2.0->stable-baselines3[extra]) (0.4.6)\n",
      "Requirement already satisfied: protobuf>=3.6.0 in /usr/local/lib/python3.7/dist-packages (from tensorboard>=2.2.0->stable-baselines3[extra]) (3.17.3)\n",
      "Requirement already satisfied: werkzeug>=0.11.15 in /usr/local/lib/python3.7/dist-packages (from tensorboard>=2.2.0->stable-baselines3[extra]) (1.0.1)\n",
      "Requirement already satisfied: wheel>=0.26 in /usr/local/lib/python3.7/dist-packages (from tensorboard>=2.2.0->stable-baselines3[extra]) (0.37.1)\n",
      "Requirement already satisfied: google-auth<3,>=1.6.3 in /usr/local/lib/python3.7/dist-packages (from tensorboard>=2.2.0->stable-baselines3[extra]) (1.35.0)\n",
      "Requirement already satisfied: markdown>=2.6.8 in /usr/local/lib/python3.7/dist-packages (from tensorboard>=2.2.0->stable-baselines3[extra]) (3.3.7)\n",
      "Requirement already satisfied: absl-py>=0.4 in /usr/local/lib/python3.7/dist-packages (from tensorboard>=2.2.0->stable-baselines3[extra]) (1.1.0)\n",
      "Requirement already satisfied: setuptools>=41.0.0 in /usr/local/lib/python3.7/dist-packages (from tensorboard>=2.2.0->stable-baselines3[extra]) (57.4.0)\n",
      "Requirement already satisfied: tensorboard-plugin-wit>=1.6.0 in /usr/local/lib/python3.7/dist-packages (from tensorboard>=2.2.0->stable-baselines3[extra]) (1.8.1)\n",
      "Requirement already satisfied: grpcio>=1.24.3 in /usr/local/lib/python3.7/dist-packages (from tensorboard>=2.2.0->stable-baselines3[extra]) (1.46.3)\n",
      "Requirement already satisfied: six>=1.9.0 in /usr/local/lib/python3.7/dist-packages (from google-auth<3,>=1.6.3->tensorboard>=2.2.0->stable-baselines3[extra]) (1.15.0)\n",
      "Requirement already satisfied: cachetools<5.0,>=2.0.0 in /usr/local/lib/python3.7/dist-packages (from google-auth<3,>=1.6.3->tensorboard>=2.2.0->stable-baselines3[extra]) (4.2.4)\n",
      "Requirement already satisfied: rsa<5,>=3.1.4 in /usr/local/lib/python3.7/dist-packages (from google-auth<3,>=1.6.3->tensorboard>=2.2.0->stable-baselines3[extra]) (4.8)\n",
      "Requirement already satisfied: pyasn1-modules>=0.2.1 in /usr/local/lib/python3.7/dist-packages (from google-auth<3,>=1.6.3->tensorboard>=2.2.0->stable-baselines3[extra]) (0.2.8)\n",
      "Requirement already satisfied: requests-oauthlib>=0.7.0 in /usr/local/lib/python3.7/dist-packages (from google-auth-oauthlib<0.5,>=0.4.1->tensorboard>=2.2.0->stable-baselines3[extra]) (1.3.1)\n",
      "Requirement already satisfied: pyasn1<0.5.0,>=0.4.6 in /usr/local/lib/python3.7/dist-packages (from pyasn1-modules>=0.2.1->google-auth<3,>=1.6.3->tensorboard>=2.2.0->stable-baselines3[extra]) (0.4.8)\n",
      "Requirement already satisfied: certifi>=2017.4.17 in /usr/local/lib/python3.7/dist-packages (from requests->autorom[accept-rom-license]~=0.4.2->stable-baselines3[extra]) (2022.6.15)\n",
      "Requirement already satisfied: chardet<4,>=3.0.2 in /usr/local/lib/python3.7/dist-packages (from requests->autorom[accept-rom-license]~=0.4.2->stable-baselines3[extra]) (3.0.4)\n",
      "Requirement already satisfied: idna<3,>=2.5 in /usr/local/lib/python3.7/dist-packages (from requests->autorom[accept-rom-license]~=0.4.2->stable-baselines3[extra]) (2.10)\n",
      "Requirement already satisfied: urllib3!=1.25.0,!=1.25.1,<1.26,>=1.21.1 in /usr/local/lib/python3.7/dist-packages (from requests->autorom[accept-rom-license]~=0.4.2->stable-baselines3[extra]) (1.24.3)\n",
      "Requirement already satisfied: oauthlib>=3.0.0 in /usr/local/lib/python3.7/dist-packages (from requests-oauthlib>=0.7.0->google-auth-oauthlib<0.5,>=0.4.1->tensorboard>=2.2.0->stable-baselines3[extra]) (3.2.0)\n",
      "Requirement already satisfied: kiwisolver>=1.0.1 in /usr/local/lib/python3.7/dist-packages (from matplotlib->stable-baselines3[extra]) (1.4.3)\n",
      "Requirement already satisfied: cycler>=0.10 in /usr/local/lib/python3.7/dist-packages (from matplotlib->stable-baselines3[extra]) (0.11.0)\n",
      "Requirement already satisfied: python-dateutil>=2.1 in /usr/local/lib/python3.7/dist-packages (from matplotlib->stable-baselines3[extra]) (2.8.2)\n",
      "Requirement already satisfied: pyparsing!=2.0.4,!=2.1.2,!=2.1.6,>=2.0.1 in /usr/local/lib/python3.7/dist-packages (from matplotlib->stable-baselines3[extra]) (3.0.9)\n",
      "Requirement already satisfied: pytz>=2017.3 in /usr/local/lib/python3.7/dist-packages (from pandas->stable-baselines3[extra]) (2022.1)\n",
      "Building wheels for collected packages: gym, AutoROM.accept-rom-license\n",
      "  Building wheel for gym (setup.py) ... \u001b[?25l\u001b[?25hdone\n",
      "  Created wheel for gym: filename=gym-0.21.0-py3-none-any.whl size=1616824 sha256=caacb82b54b1cd48f072ec3dd2ca0f507b33620dbccda87bd30214788a322860\n",
      "  Stored in directory: /root/.cache/pip/wheels/76/ee/9c/36bfe3e079df99acf5ae57f4e3464ff2771b34447d6d2f2148\n",
      "  Building wheel for AutoROM.accept-rom-license (PEP 517) ... \u001b[?25l\u001b[?25hdone\n",
      "  Created wheel for AutoROM.accept-rom-license: filename=AutoROM.accept_rom_license-0.4.2-py3-none-any.whl size=441027 sha256=ac07ba415388b78a456c46996cd62e9921ffe850759e9a117389b3ff51f6e8a7\n",
      "  Stored in directory: /root/.cache/pip/wheels/87/67/2e/6147e7912fe37f5408b80d07527dab807c1d25f5c403a9538a\n",
      "Successfully built gym AutoROM.accept-rom-license\n",
      "Installing collected packages: gym, AutoROM.accept-rom-license, autorom, stable-baselines3, ale-py\n",
      "  Attempting uninstall: gym\n",
      "    Found existing installation: gym 0.17.3\n",
      "    Uninstalling gym-0.17.3:\n",
      "      Successfully uninstalled gym-0.17.3\n",
      "Successfully installed AutoROM.accept-rom-license-0.4.2 ale-py-0.7.5 autorom-0.4.2 gym-0.21.0 stable-baselines3-1.5.0\n"
     ]
    }
   ],
   "source": [
    "!pip install stable-baselines3[extra]\n",
    "#!pip install stable-baselines"
   ]
  },
  {
   "cell_type": "code",
   "execution_count": null,
   "metadata": {
    "id": "BIedd7Pz9sOs"
   },
   "outputs": [],
   "source": [
    "import gym\n",
    "import numpy as np"
   ]
  },
  {
   "cell_type": "code",
   "execution_count": null,
   "metadata": {
    "id": "R7tKaBFrTR0a"
   },
   "outputs": [],
   "source": [
    "from stable_baselines3 import PPO\n",
    "from stable_baselines3 import DDPG\n",
    "#from stable_baselines import TRPO"
   ]
  },
  {
   "cell_type": "code",
   "execution_count": null,
   "metadata": {
    "id": "ROUJr675TT01"
   },
   "outputs": [],
   "source": [
    "#from stable_baselines3.ppo.policies import MlpPolicy\n",
    "from stable_baselines3.ddpg.policies import MlpPolicy"
   ]
  },
  {
   "cell_type": "code",
   "execution_count": null,
   "metadata": {
    "colab": {
     "base_uri": "https://localhost:8080/"
    },
    "id": "AwdAtaGMt4J0",
    "outputId": "261928ca-c84b-4dd1-eea4-332151bec356"
   },
   "outputs": [
    {
     "name": "stdout",
     "output_type": "stream",
     "text": [
      "Looking in indexes: https://pypi.org/simple, https://us-python.pkg.dev/colab-wheels/public/simple/\n",
      "Collecting odeintw\n",
      "  Downloading odeintw-0.1.1-py3-none-any.whl (7.6 kB)\n",
      "Requirement already satisfied: scipy in /usr/local/lib/python3.7/dist-packages (from odeintw) (1.4.1)\n",
      "Requirement already satisfied: numpy>=1.13.3 in /usr/local/lib/python3.7/dist-packages (from scipy->odeintw) (1.21.6)\n",
      "Installing collected packages: odeintw\n",
      "Successfully installed odeintw-0.1.1\n"
     ]
    }
   ],
   "source": [
    "from gym import Env\n",
    "from gym.spaces import Discrete, Box\n",
    "import numpy as np\n",
    "import random\n",
    "import numpy as np\n",
    "import matplotlib.pyplot as plt\n",
    "!pip install odeintw\n",
    "from odeintw import odeintw\n",
    "\n",
    "class PassageEnv(Env):\n",
    "    def __init__(self):\n",
    "        # Limites y espacio de las acciones [omega1, omega2]\n",
    "        self.action_space = Box(low=np.array([0,0]), high=np.array([1,1]))\n",
    "        #  Limites y espacio de los estados: [\\rho, sigma1, sigma2]\n",
    "        self.observation_space = Box(low=np.array([0,0,0,0,0,0,0,0,0,0,0]), \n",
    "                                high=np.array([1,1,1,1,1,1,1,1,1,1,1]))\n",
    "        # Set start state\n",
    "        self.state = np.array([1,0,0,0,0,0,0,0,0,0,0],dtype=np.complex128)\n",
    "\n",
    "        self.length_trial = 0\n",
    "\n",
    "\n",
    "    def refuerzo(self, p3, p2):\n",
    "        return (-1 + p3 - p2) #+ A(p2)\n",
    "\n",
    "    def step(self, action):\n",
    "        # Aplicar accion\n",
    "        omega1 = action[0]\n",
    "        omega2 = action[1]\n",
    "\n",
    "        # Cambiar el hamiltoniano\n",
    "        def right_part(rho, t):\n",
    "  \n",
    "          hamiltonian = np.array([[0     , -omega1,      0  ],\n",
    "                                  [-omega1,    0.0 , -omega2 ],\n",
    "                                  [ 0     , -omega2,      0.0]],\n",
    "                                  dtype=np.complex128)\n",
    "          return (np.dot(hamiltonian, rho) - np.dot(rho, hamiltonian)) / (1j)\n",
    "\n",
    "        # Evolucion temporal\n",
    "        N = 50\n",
    "        omegamax = 1\n",
    "        dt = (50*np.pi/omegamax)/N\n",
    "        #dt = (10*np.pi/omegamax)/N\n",
    "        #tmax = 10\n",
    "        tpasos = np.linspace(0,dt,N)\n",
    "        rho = np.array([[self.state[i] for i in range(0,3)],\n",
    "                      [self.state[i] for i in range(3,6)],\n",
    "                      [self.state[i] for i in range(6,9)]], dtype=np.complex128)\n",
    "\n",
    "        result = odeintw(right_part, rho, tpasos)\n",
    "        final_result = result[-1]\n",
    "        final_result = np.reshape(final_result,(9,))\n",
    "\n",
    "        # Nuevo estado a partir de la matriz densidad obtenida\n",
    "        result = final_result\n",
    "        #result = [np.mean(i) for i in final_result]\n",
    "        #result = [i[-2] for i in final_result] # Testeando\n",
    "        self.state = np.array([result[0], result[1], result[2], result[3], result[4], result[5], result[6], result[7], result[8], omega1, omega2])\n",
    "\n",
    "        # Calcular el refuerzo\n",
    "        reward = self.refuerzo(self.state[6], self.state[8])\n",
    "\n",
    "        done = False\n",
    "      \n",
    "        if self.state[4]>0.05:\n",
    "          reward -= 100\n",
    "\n",
    "        self.length_trial += 1\n",
    "      \n",
    "        if self.state[8] >= 0.99 and self.length_trial==100:\n",
    "            reward += 1000\n",
    "            done = True\n",
    "\n",
    "        if self.length_trial >= 50:\n",
    "            done = True\n",
    "\n",
    "        info = {}\n",
    "\n",
    "        return self.state, reward, done, info\n",
    "\n",
    "    def render(self):\n",
    "        pass\n",
    "\n",
    "    def reset(self):\n",
    "        self.state = np.array([1,0,0,0,0,0,0,0,0,0,0])\n",
    "        self.length_trial = 0\n",
    "        return self.state"
   ]
  },
  {
   "cell_type": "code",
   "execution_count": null,
   "metadata": {
    "colab": {
     "base_uri": "https://localhost:8080/"
    },
    "id": "pUWGZp3i9wyf",
    "outputId": "cf1ada16-7a94-4ce4-c5db-501d846c7cfa"
   },
   "outputs": [
    {
     "name": "stderr",
     "output_type": "stream",
     "text": [
      "/usr/local/lib/python3.7/dist-packages/gym/spaces/box.py:74: UserWarning: \u001b[33mWARN: Box bound precision lowered by casting to float32\u001b[0m\n",
      "  \"Box bound precision lowered by casting to {}\".format(self.dtype)\n"
     ]
    }
   ],
   "source": [
    "# Creamos un entorno\n",
    "env = PassageEnv()\n",
    "\n",
    "# Crear el agente se simplifica a esto\n",
    "model = DDPG(MlpPolicy, env)"
   ]
  },
  {
   "cell_type": "markdown",
   "metadata": {
    "id": "r5UoXTZPNdFE"
   },
   "source": [
    "## Entrenar el agente"
   ]
  },
  {
   "cell_type": "code",
   "execution_count": null,
   "metadata": {
    "colab": {
     "base_uri": "https://localhost:8080/"
    },
    "id": "e4cfSXIB-pTF",
    "outputId": "73cdbd74-4d8a-48fc-ffe9-b0acca2fb595"
   },
   "outputs": [
    {
     "name": "stderr",
     "output_type": "stream",
     "text": [
      "/usr/local/lib/python3.7/dist-packages/stable_baselines3/common/vec_env/dummy_vec_env.py:44: ComplexWarning: Casting complex values to real discards the imaginary part\n",
      "  self.actions[env_idx]\n",
      "/usr/local/lib/python3.7/dist-packages/stable_baselines3/common/vec_env/dummy_vec_env.py:92: ComplexWarning: Casting complex values to real discards the imaginary part\n",
      "  self.buf_obs[key][env_idx] = obs\n",
      "/usr/local/lib/python3.7/dist-packages/stable_baselines3/common/off_policy_algorithm.py:502: ComplexWarning: Casting complex values to real discards the imaginary part\n",
      "  next_obs[i] = infos[i][\"terminal_observation\"]\n"
     ]
    },
    {
     "data": {
      "text/plain": [
       "<stable_baselines3.ddpg.ddpg.DDPG at 0x7f1207d0da10>"
      ]
     },
     "execution_count": 7,
     "metadata": {},
     "output_type": "execute_result"
    }
   ],
   "source": [
    "# Entrenar el agente ahora se simplifica a esto\n",
    "N_steps = 12000\n",
    "model.learn(total_timesteps=N_steps)"
   ]
  },
  {
   "cell_type": "markdown",
   "metadata": {
    "id": "JF-CTNAVFwjv"
   },
   "source": [
    "# Guardando y evaluando los resultados\n",
    "Una vez se ha entrenado la red guardamos automaticamente la información en Google Drive y evaluamos un episodio completo"
   ]
  },
  {
   "cell_type": "code",
   "execution_count": null,
   "metadata": {
    "colab": {
     "base_uri": "https://localhost:8080/",
     "height": 381
    },
    "id": "cYcGQww5dByz",
    "outputId": "6f6e2b77-959e-45ae-de45-120fd527e14c"
   },
   "outputs": [
    {
     "ename": "MessageError",
     "evalue": "ignored",
     "output_type": "error",
     "traceback": [
      "\u001b[0;31m---------------------------------------------------------------------------\u001b[0m",
      "\u001b[0;31mMessageError\u001b[0m                              Traceback (most recent call last)",
      "\u001b[0;32m<ipython-input-8-7cb1f791f4c9>\u001b[0m in \u001b[0;36m<module>\u001b[0;34m()\u001b[0m\n\u001b[1;32m      3\u001b[0m \u001b[0;32mimport\u001b[0m \u001b[0mnumpy\u001b[0m \u001b[0;32mas\u001b[0m \u001b[0mnp\u001b[0m\u001b[0;34m\u001b[0m\u001b[0;34m\u001b[0m\u001b[0m\n\u001b[1;32m      4\u001b[0m \u001b[0;32mfrom\u001b[0m \u001b[0mgoogle\u001b[0m\u001b[0;34m.\u001b[0m\u001b[0mcolab\u001b[0m \u001b[0;32mimport\u001b[0m \u001b[0mdrive\u001b[0m\u001b[0;34m\u001b[0m\u001b[0;34m\u001b[0m\u001b[0m\n\u001b[0;32m----> 5\u001b[0;31m \u001b[0mdrive\u001b[0m\u001b[0;34m.\u001b[0m\u001b[0mmount\u001b[0m\u001b[0;34m(\u001b[0m\u001b[0mGOOGLE_DRIVE\u001b[0m\u001b[0;34m)\u001b[0m\u001b[0;34m\u001b[0m\u001b[0;34m\u001b[0m\u001b[0m\n\u001b[0m\u001b[1;32m      6\u001b[0m \u001b[0mpath\u001b[0m \u001b[0;34m=\u001b[0m \u001b[0mGOOGLE_DRIVE\u001b[0m\u001b[0;34m+\u001b[0m\u001b[0;34m'/MyDrive/archivos_teorica/'\u001b[0m\u001b[0;34m\u001b[0m\u001b[0;34m\u001b[0m\u001b[0m\n\u001b[1;32m      7\u001b[0m \u001b[0;32mimport\u001b[0m \u001b[0mos\u001b[0m\u001b[0;34m.\u001b[0m\u001b[0mpath\u001b[0m\u001b[0;34m\u001b[0m\u001b[0;34m\u001b[0m\u001b[0m\n",
      "\u001b[0;32m/usr/local/lib/python3.7/dist-packages/google/colab/drive.py\u001b[0m in \u001b[0;36mmount\u001b[0;34m(mountpoint, force_remount, timeout_ms)\u001b[0m\n\u001b[1;32m    107\u001b[0m       \u001b[0mforce_remount\u001b[0m\u001b[0;34m=\u001b[0m\u001b[0mforce_remount\u001b[0m\u001b[0;34m,\u001b[0m\u001b[0;34m\u001b[0m\u001b[0;34m\u001b[0m\u001b[0m\n\u001b[1;32m    108\u001b[0m       \u001b[0mtimeout_ms\u001b[0m\u001b[0;34m=\u001b[0m\u001b[0mtimeout_ms\u001b[0m\u001b[0;34m,\u001b[0m\u001b[0;34m\u001b[0m\u001b[0;34m\u001b[0m\u001b[0m\n\u001b[0;32m--> 109\u001b[0;31m       ephemeral=True)\n\u001b[0m\u001b[1;32m    110\u001b[0m \u001b[0;34m\u001b[0m\u001b[0m\n\u001b[1;32m    111\u001b[0m \u001b[0;34m\u001b[0m\u001b[0m\n",
      "\u001b[0;32m/usr/local/lib/python3.7/dist-packages/google/colab/drive.py\u001b[0m in \u001b[0;36m_mount\u001b[0;34m(mountpoint, force_remount, timeout_ms, ephemeral)\u001b[0m\n\u001b[1;32m    122\u001b[0m   \u001b[0;32mif\u001b[0m \u001b[0mephemeral\u001b[0m\u001b[0;34m:\u001b[0m\u001b[0;34m\u001b[0m\u001b[0;34m\u001b[0m\u001b[0m\n\u001b[1;32m    123\u001b[0m     _message.blocking_request(\n\u001b[0;32m--> 124\u001b[0;31m         'request_auth', request={'authType': 'dfs_ephemeral'}, timeout_sec=None)\n\u001b[0m\u001b[1;32m    125\u001b[0m \u001b[0;34m\u001b[0m\u001b[0m\n\u001b[1;32m    126\u001b[0m   \u001b[0mmountpoint\u001b[0m \u001b[0;34m=\u001b[0m \u001b[0m_os\u001b[0m\u001b[0;34m.\u001b[0m\u001b[0mpath\u001b[0m\u001b[0;34m.\u001b[0m\u001b[0mexpanduser\u001b[0m\u001b[0;34m(\u001b[0m\u001b[0mmountpoint\u001b[0m\u001b[0;34m)\u001b[0m\u001b[0;34m\u001b[0m\u001b[0;34m\u001b[0m\u001b[0m\n",
      "\u001b[0;32m/usr/local/lib/python3.7/dist-packages/google/colab/_message.py\u001b[0m in \u001b[0;36mblocking_request\u001b[0;34m(request_type, request, timeout_sec, parent)\u001b[0m\n\u001b[1;32m    173\u001b[0m   request_id = send_request(\n\u001b[1;32m    174\u001b[0m       request_type, request, parent=parent, expect_reply=True)\n\u001b[0;32m--> 175\u001b[0;31m   \u001b[0;32mreturn\u001b[0m \u001b[0mread_reply_from_input\u001b[0m\u001b[0;34m(\u001b[0m\u001b[0mrequest_id\u001b[0m\u001b[0;34m,\u001b[0m \u001b[0mtimeout_sec\u001b[0m\u001b[0;34m)\u001b[0m\u001b[0;34m\u001b[0m\u001b[0;34m\u001b[0m\u001b[0m\n\u001b[0m",
      "\u001b[0;32m/usr/local/lib/python3.7/dist-packages/google/colab/_message.py\u001b[0m in \u001b[0;36mread_reply_from_input\u001b[0;34m(message_id, timeout_sec)\u001b[0m\n\u001b[1;32m    104\u001b[0m         reply.get('colab_msg_id') == message_id):\n\u001b[1;32m    105\u001b[0m       \u001b[0;32mif\u001b[0m \u001b[0;34m'error'\u001b[0m \u001b[0;32min\u001b[0m \u001b[0mreply\u001b[0m\u001b[0;34m:\u001b[0m\u001b[0;34m\u001b[0m\u001b[0;34m\u001b[0m\u001b[0m\n\u001b[0;32m--> 106\u001b[0;31m         \u001b[0;32mraise\u001b[0m \u001b[0mMessageError\u001b[0m\u001b[0;34m(\u001b[0m\u001b[0mreply\u001b[0m\u001b[0;34m[\u001b[0m\u001b[0;34m'error'\u001b[0m\u001b[0;34m]\u001b[0m\u001b[0;34m)\u001b[0m\u001b[0;34m\u001b[0m\u001b[0;34m\u001b[0m\u001b[0m\n\u001b[0m\u001b[1;32m    107\u001b[0m       \u001b[0;32mreturn\u001b[0m \u001b[0mreply\u001b[0m\u001b[0;34m.\u001b[0m\u001b[0mget\u001b[0m\u001b[0;34m(\u001b[0m\u001b[0;34m'data'\u001b[0m\u001b[0;34m,\u001b[0m \u001b[0;32mNone\u001b[0m\u001b[0;34m)\u001b[0m\u001b[0;34m\u001b[0m\u001b[0;34m\u001b[0m\u001b[0m\n\u001b[1;32m    108\u001b[0m \u001b[0;34m\u001b[0m\u001b[0m\n",
      "\u001b[0;31mMessageError\u001b[0m: Error: credential propagation was unsuccessful"
     ]
    }
   ],
   "source": [
    "# Leyendo archivos desde Google drive\n",
    "GOOGLE_DRIVE = '/content/google_drive'\n",
    "import numpy as np\n",
    "from google.colab import drive\n",
    "drive.mount(GOOGLE_DRIVE)\n",
    "path = GOOGLE_DRIVE+'/MyDrive/archivos_teorica/'\n",
    "import os.path\n",
    "import os\n",
    "\n",
    "dir_path = path+'BL_3puntos_'+str(N_steps)+'/'\n",
    "\n",
    "isExist = os.path.exists(dir_path)\n",
    "\n",
    "if not isExist:\n",
    "  os.makedirs(dir_path)\n",
    "\n",
    "path_file = dir_path+\"Baselines_Model_W_\"+str(N_steps)+\"_episodes\"\n",
    "file_exists = os.path.exists(path_file+'.zip')\n",
    "print(file_exists)\n",
    "\n",
    "if not file_exists:\n",
    "  model.save(path_file)"
   ]
  },
  {
   "cell_type": "code",
   "execution_count": null,
   "metadata": {
    "colab": {
     "base_uri": "https://localhost:8080/",
     "height": 872
    },
    "id": "zyQi5o09q3U4",
    "outputId": "5aeb6f34-d3c6-49fb-b63d-1436934f927f"
   },
   "outputs": [
    {
     "name": "stderr",
     "output_type": "stream",
     "text": [
      "/usr/local/lib/python3.7/dist-packages/stable_baselines3/common/vec_env/dummy_vec_env.py:44: ComplexWarning: Casting complex values to real discards the imaginary part\n",
      "  self.actions[env_idx]\n",
      "/usr/local/lib/python3.7/dist-packages/stable_baselines3/common/vec_env/dummy_vec_env.py:92: ComplexWarning: Casting complex values to real discards the imaginary part\n",
      "  self.buf_obs[key][env_idx] = obs\n"
     ]
    },
    {
     "name": "stdout",
     "output_type": "stream",
     "text": [
      "acciones\n"
     ]
    },
    {
     "data": {
      "image/png": "[encoded data removed]",
      "text/plain": [
       "<Figure size 432x288 with 1 Axes>"
      ]
     },
     "metadata": {
      "needs_background": "light"
     },
     "output_type": "display_data"
    },
    {
     "name": "stdout",
     "output_type": "stream",
     "text": [
      "estado\n"
     ]
    },
    {
     "ename": "NameError",
     "evalue": "ignored",
     "output_type": "error",
     "traceback": [
      "\u001b[0;31m---------------------------------------------------------------------------\u001b[0m",
      "\u001b[0;31mNameError\u001b[0m                                 Traceback (most recent call last)",
      "\u001b[0;32m<ipython-input-10-fba727469489>\u001b[0m in \u001b[0;36m<module>\u001b[0;34m()\u001b[0m\n\u001b[1;32m     40\u001b[0m \u001b[0mplt\u001b[0m\u001b[0;34m.\u001b[0m\u001b[0mylabel\u001b[0m\u001b[0;34m(\u001b[0m\u001b[0;34m'$\\mathregular{\\\\rho}$'\u001b[0m\u001b[0;34m)\u001b[0m\u001b[0;34m\u001b[0m\u001b[0;34m\u001b[0m\u001b[0m\n\u001b[1;32m     41\u001b[0m \u001b[0;34m\u001b[0m\u001b[0m\n\u001b[0;32m---> 42\u001b[0;31m \u001b[0mpath_img\u001b[0m \u001b[0;34m=\u001b[0m \u001b[0mdir_path\u001b[0m\u001b[0;34m+\u001b[0m\u001b[0;34m'Estado.png'\u001b[0m\u001b[0;34m\u001b[0m\u001b[0;34m\u001b[0m\u001b[0m\n\u001b[0m\u001b[1;32m     43\u001b[0m \u001b[0mfile_exists\u001b[0m \u001b[0;34m=\u001b[0m \u001b[0mos\u001b[0m\u001b[0;34m.\u001b[0m\u001b[0mpath\u001b[0m\u001b[0;34m.\u001b[0m\u001b[0mexists\u001b[0m\u001b[0;34m(\u001b[0m\u001b[0mpath_img\u001b[0m\u001b[0;34m)\u001b[0m\u001b[0;34m\u001b[0m\u001b[0;34m\u001b[0m\u001b[0m\n\u001b[1;32m     44\u001b[0m \u001b[0;32mif\u001b[0m \u001b[0;32mnot\u001b[0m \u001b[0mfile_exists\u001b[0m\u001b[0;34m:\u001b[0m\u001b[0;34m\u001b[0m\u001b[0;34m\u001b[0m\u001b[0m\n",
      "\u001b[0;31mNameError\u001b[0m: name 'dir_path' is not defined"
     ]
    },
    {
     "data": {
      "image/png": "[encoded data removed]",
      "text/plain": [
       "<Figure size 432x288 with 1 Axes>"
      ]
     },
     "metadata": {
      "needs_background": "light"
     },
     "output_type": "display_data"
    }
   ],
   "source": [
    "env = model.get_env()\n",
    "episode_rewards = []\n",
    "done = False\n",
    "obs = env.reset()\n",
    "actions = []\n",
    "p1, p2, p3 = [obs[0][0]], [obs[0][4]], [obs[0][8]]\n",
    "actions.append([[0,0]])\n",
    "obs, reward, done, info = env.step(actions[0])\n",
    "while not done:\n",
    "    # _states are only useful when using LSTM policies\n",
    "    action, _states = model.predict(obs)\n",
    "    actions.append(action)\n",
    "    # here, action, rewards and dones are arrays\n",
    "    # because we are using vectorized env\n",
    "    obs, reward, done, info = env.step(action)\n",
    "    p1.append(obs[0][0])\n",
    "    p2.append(obs[0][4])\n",
    "    p3.append(obs[0][8])\n",
    "    episode_rewards.append(reward)\n",
    "actions = np.array(actions)\n",
    "actions.shape\n",
    "\n",
    "N = len(actions[:,0,0])\n",
    "tmax = 50\n",
    "#tmax = 10*np.pi\n",
    "tpasos = np.linspace(0,tmax,N)\n",
    "print('acciones')\n",
    "plt.xlabel('t[$\\mathregular{ps}$]')\n",
    "plt.ylabel('$\\mathregular{\\Omega/\\Omega_{max}}$')\n",
    "plt.step(tpasos, actions[:,0,0], label='$\\mathregular{\\Omega_{1}}$')\n",
    "plt.step(tpasos, actions[:,0,1], label='$\\mathregular{\\Omega_{2}}$')\n",
    "plt.legend()\n",
    "plt.show()\n",
    "print('estado')\n",
    "plt.plot(tpasos[:-1], p1[:-1], label='$\\mathregular{\\\\rho_1}$')\n",
    "plt.plot(tpasos[:-1], p2[:-1], label='$\\mathregular{\\\\rho_2}$')\n",
    "plt.plot(tpasos[:-1], p3[:-1], label='$\\mathregular{\\\\rho_3}$')\n",
    "plt.legend()\n",
    "plt.xlabel('t[$\\mathregular{ps}$]')\n",
    "plt.ylabel('$\\mathregular{\\\\rho}$')\n",
    "\n",
    "path_img = dir_path+'Estado.png'\n",
    "file_exists = os.path.exists(path_img)\n",
    "if not file_exists:\n",
    "  plt.savefig(dir_path+'Estado.png', dpi=300, transparent=False, bbox_inches='tight')\n",
    "plt.show()\n",
    "ptot = np.array(p1)+np.array(p2)+np.array(p3)\n",
    "plt.plot(ptot)\n",
    "plt.show()\n",
    "print('reward')\n",
    "plt.plot(episode_rewards)\n",
    "\n",
    "path_actions1 = dir_path+'pulso1.csv'\n",
    "path_actions2 = dir_path+'pulso2.csv'\n",
    "file_exists = os.path.exists(path_actions1)\n",
    "if not file_exists:\n",
    "  np.savetxt(path_actions1, actions[:,0,0], delimiter=',')\n",
    "  np.savetxt(path_actions2, actions[:,0,1], delimiter=',')\n",
    "\n",
    "path_actionsrho1 = dir_path+'pulso1.csv'\n",
    "path_actionsrho2 = dir_path+'pulso2.csv'\n",
    "path_actionsrho3 = dir_path+'pulso3.csv'\n",
    "file_exists = os.path.exists(path_actionsrho1)\n",
    "if not file_exists:\n",
    "  np.savetxt(path_actionsrho1, p1[:-1], delimiter=',')\n",
    "  np.savetxt(path_actionsrho2, p2[:-1], delimiter=',')\n",
    "  np.savetxt(path_actionsrho3, p3[:-1], delimiter=',')"
   ]
  },
  {
   "cell_type": "code",
   "execution_count": null,
   "metadata": {
    "id": "ksma2-1qFOx_"
   },
   "outputs": [],
   "source": [
    "env = PassageEnv()\n",
    "\n",
    "p11 = []\n",
    "p22 = []\n",
    "p33 = []\n",
    "for t in range(len(actions[:,0,0])):\n",
    "  result = env.step([actions[t,0,0], actions[t,0,1]])[0]\n",
    "  p11.append(result[0])\n",
    "  p22.append(result[4])\n",
    "  p33.append(result[8])\n",
    "\n",
    "plt.plot(p11, label='rho1')\n",
    "plt.plot(p22, label='rho2')\n",
    "plt.plot(p33, label='rho3')\n",
    "plt.legend()\n",
    "plt.show()"
   ]
  },
  {
   "cell_type": "code",
   "execution_count": null,
   "metadata": {
    "id": "-Wbq9DkkWvzF"
   },
   "outputs": [],
   "source": [
    "import pandas\n",
    "df = pandas.read_csv(path_actions1, header=None)"
   ]
  },
  {
   "cell_type": "code",
   "execution_count": null,
   "metadata": {
    "id": "rASe_wRQYhmx"
   },
   "outputs": [],
   "source": [
    "plt.plot(df)"
   ]
  },
  {
   "cell_type": "code",
   "execution_count": null,
   "metadata": {
    "id": "Na0dgxOBxBMZ"
   },
   "outputs": [],
   "source": [
    "model.critic"
   ]
  },
  {
   "cell_type": "code",
   "execution_count": null,
   "metadata": {
    "id": "Mgr4d_0U1bIs"
   },
   "outputs": [],
   "source": [
    "model.actor"
   ]
  },
  {
   "cell_type": "code",
   "execution_count": null,
   "metadata": {
    "id": "Cg9FSIeC3BlT"
   },
   "outputs": [],
   "source": []
  }
 ],
 "metadata": {
  "accelerator": "TPU",
  "colab": {
   "collapsed_sections": [],
   "include_colab_link": true,
   "name": "Agente_usando_Baselines.ipynb",
   "provenance": []
  },
  "kernelspec": {
   "display_name": "Python 3 (ipykernel)",
   "language": "python",
   "name": "python3"
  }
 },
 "nbformat": 4,
 "nbformat_minor": 1
}
